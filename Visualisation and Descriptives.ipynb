{
 "cells": [
  {
   "cell_type": "markdown",
   "metadata": {},
   "source": [
    "# Visualisations and Descriptives"
   ]
  },
  {
   "cell_type": "markdown",
   "metadata": {},
   "source": [
    "## Descriptives"
   ]
  },
  {
   "cell_type": "code",
   "execution_count": 16,
   "metadata": {},
   "outputs": [],
   "source": [
    "import pickle\n",
    "import pandas as pd\n",
    "import numpy as np\n",
    "import seaborn as sns\n",
    "import matplotlib.pyplot as plt\n",
    "%matplotlib inline"
   ]
  },
  {
   "cell_type": "code",
   "execution_count": 28,
   "metadata": {},
   "outputs": [],
   "source": [
    "# create uniform colour palette\n",
    "palette ={\"NEU\": \"#b2b2b2\", \"NEG\": \"#ff8f8f\", \"POS\": \"#00FF00\"}\n",
    "# set uniform figure size\n",
    "sns.set(rc={'figure.figsize':(9,6.36)})\n",
    "# set seaborne style\n",
    "sns.set_style('whitegrid')"
   ]
  },
  {
   "cell_type": "code",
   "execution_count": 6,
   "metadata": {},
   "outputs": [],
   "source": [
    "# load data\n",
    "df = pd.read_csv(\"dataset_token_ready.csv\")\n",
    "with open(\"dataset_sentiment.pkl\", \"rb\") as f:\n",
    "    dfa = pickle.load(f)"
   ]
  },
  {
   "cell_type": "code",
   "execution_count": 7,
   "metadata": {},
   "outputs": [
    {
     "name": "stderr",
     "output_type": "stream",
     "text": [
      "<ipython-input-7-06dfcaf2f83e>:5: UserWarning: This pattern is interpreted as a regular expression, and has match groups. To actually get the groups, use str.extract.\n",
      "  df[\"mention\"] = df['text'].str.contains(regex, na = False)\n"
     ]
    }
   ],
   "source": [
    "# define regex to search for mentions of president Ortega\n",
    "regex = r'([Oo]rtega)|([Nn]uestro [Pp]residente)|[Pp]residente de [Nn]icaragua|([Cc]omandante [Dd]aniel)|[Dd]aniel y [Rr]osario'\n",
    "\n",
    "# create dummy to count ortega mention\n",
    "df[\"mention\"] = df['text'].str.contains(regex, na = False)"
   ]
  },
  {
   "cell_type": "code",
   "execution_count": 15,
   "metadata": {},
   "outputs": [
    {
     "data": {
      "text/html": [
       "<div>\n",
       "<style scoped>\n",
       "    .dataframe tbody tr th:only-of-type {\n",
       "        vertical-align: middle;\n",
       "    }\n",
       "\n",
       "    .dataframe tbody tr th {\n",
       "        vertical-align: top;\n",
       "    }\n",
       "\n",
       "    .dataframe thead th {\n",
       "        text-align: right;\n",
       "    }\n",
       "</style>\n",
       "<table border=\"1\" class=\"dataframe\">\n",
       "  <thead>\n",
       "    <tr style=\"text-align: right;\">\n",
       "      <th></th>\n",
       "      <th>mention</th>\n",
       "    </tr>\n",
       "    <tr>\n",
       "      <th>page</th>\n",
       "      <th></th>\n",
       "    </tr>\n",
       "  </thead>\n",
       "  <tbody>\n",
       "    <tr>\n",
       "      <th>100% Noticias</th>\n",
       "      <td>0.431460</td>\n",
       "    </tr>\n",
       "    <tr>\n",
       "      <th>Canal10</th>\n",
       "      <td>0.019584</td>\n",
       "    </tr>\n",
       "    <tr>\n",
       "      <th>Canal13</th>\n",
       "      <td>0.103444</td>\n",
       "    </tr>\n",
       "    <tr>\n",
       "      <th>Canal14</th>\n",
       "      <td>0.144416</td>\n",
       "    </tr>\n",
       "    <tr>\n",
       "      <th>Canal2</th>\n",
       "      <td>0.121305</td>\n",
       "    </tr>\n",
       "    <tr>\n",
       "      <th>Canal4</th>\n",
       "      <td>0.214021</td>\n",
       "    </tr>\n",
       "    <tr>\n",
       "      <th>Canal6</th>\n",
       "      <td>0.228879</td>\n",
       "    </tr>\n",
       "    <tr>\n",
       "      <th>Confidencial</th>\n",
       "      <td>0.682199</td>\n",
       "    </tr>\n",
       "    <tr>\n",
       "      <th>Radio 800</th>\n",
       "      <td>0.106832</td>\n",
       "    </tr>\n",
       "    <tr>\n",
       "      <th>Radio Corporacion</th>\n",
       "      <td>0.384401</td>\n",
       "    </tr>\n",
       "    <tr>\n",
       "      <th>Radio Nicaragua</th>\n",
       "      <td>0.160542</td>\n",
       "    </tr>\n",
       "    <tr>\n",
       "      <th>Radio la Primerisima</th>\n",
       "      <td>0.065509</td>\n",
       "    </tr>\n",
       "  </tbody>\n",
       "</table>\n",
       "</div>"
      ],
      "text/plain": [
       "                       mention\n",
       "page                          \n",
       "100% Noticias         0.431460\n",
       "Canal10               0.019584\n",
       "Canal13               0.103444\n",
       "Canal14               0.144416\n",
       "Canal2                0.121305\n",
       "Canal4                0.214021\n",
       "Canal6                0.228879\n",
       "Confidencial          0.682199\n",
       "Radio 800             0.106832\n",
       "Radio Corporacion     0.384401\n",
       "Radio Nicaragua       0.160542\n",
       "Radio la Primerisima  0.065509"
      ]
     },
     "execution_count": 15,
     "metadata": {},
     "output_type": "execute_result"
    }
   ],
   "source": [
    "# what is the share of articles per outlet mentioning Ortega?\n",
    "df.groupby(\"page\").agg({\"mention\":np.sum})/df.groupby(\"page\").agg({\"mention\":np.size})"
   ]
  },
  {
   "cell_type": "code",
   "execution_count": 18,
   "metadata": {},
   "outputs": [],
   "source": [
    "# create position categories\n",
    "outlets = dfa.page.unique().tolist()\n",
    "\n",
    "key = [\"neutral\",\n",
    "      \"regime\",\n",
    "      \"regime\",\n",
    "      \"opposition\",\n",
    "      \"regime\",\n",
    "      \"neutral\",\n",
    "      \"opposition\",\n",
    "      \"regime\",\n",
    "      \"regime\",\n",
    "      \"regime\",\n",
    "      \"neutral\",\n",
    "      \"opposition\"]\n",
    "\n",
    "# create categories\n",
    "dfa[\"position\"] = dfa[\"page\"].replace(outlets, key)\n",
    "df[\"position\"] = df[\"page\"].replace(outlets, key)"
   ]
  },
  {
   "cell_type": "code",
   "execution_count": 31,
   "metadata": {
    "scrolled": false
   },
   "outputs": [
    {
     "data": {
      "text/plain": [
       "<AxesSubplot:xlabel='year', ylabel='mention'>"
      ]
     },
     "execution_count": 31,
     "metadata": {},
     "output_type": "execute_result"
    },
    {
     "data": {
      "image/png": "[encoded data removed]",
      "text/plain": [
       "<Figure size 648x457.92 with 1 Axes>"
      ]
     },
     "metadata": {},
     "output_type": "display_data"
    }
   ],
   "source": [
    "# percentage of Ortega-mentioning articles per year and outlet\n",
    "# \n",
    "data = (df.groupby([\"position\", \"year\"])\n",
    " .agg({\"mention\":np.sum})/\n",
    " df.groupby([\"position\", \"year\"])\n",
    " .agg({\"mention\":np.size})).reset_index()\n",
    "\n",
    "sns.lineplot(data = data.loc[data[\"year\"]> 2014] ,x=\"year\", y=\"mention\", hue=\"position\")"
   ]
  },
  {
   "cell_type": "code",
   "execution_count": 153,
   "metadata": {},
   "outputs": [
    {
     "data": {
      "text/html": [
       "<div>\n",
       "<style scoped>\n",
       "    .dataframe tbody tr th:only-of-type {\n",
       "        vertical-align: middle;\n",
       "    }\n",
       "\n",
       "    .dataframe tbody tr th {\n",
       "        vertical-align: top;\n",
       "    }\n",
       "\n",
       "    .dataframe thead th {\n",
       "        text-align: right;\n",
       "    }\n",
       "</style>\n",
       "<table border=\"1\" class=\"dataframe\">\n",
       "  <thead>\n",
       "    <tr style=\"text-align: right;\">\n",
       "      <th>year</th>\n",
       "      <th>2011.0</th>\n",
       "      <th>2012.0</th>\n",
       "      <th>2014.0</th>\n",
       "      <th>2015.0</th>\n",
       "      <th>2016.0</th>\n",
       "      <th>2017.0</th>\n",
       "      <th>2018.0</th>\n",
       "      <th>2019.0</th>\n",
       "      <th>2020.0</th>\n",
       "      <th>2021.0</th>\n",
       "      <th>2022.0</th>\n",
       "    </tr>\n",
       "    <tr>\n",
       "      <th>page</th>\n",
       "      <th></th>\n",
       "      <th></th>\n",
       "      <th></th>\n",
       "      <th></th>\n",
       "      <th></th>\n",
       "      <th></th>\n",
       "      <th></th>\n",
       "      <th></th>\n",
       "      <th></th>\n",
       "      <th></th>\n",
       "      <th></th>\n",
       "    </tr>\n",
       "  </thead>\n",
       "  <tbody>\n",
       "    <tr>\n",
       "      <th>100% Noticias</th>\n",
       "      <td>NaN</td>\n",
       "      <td>NaN</td>\n",
       "      <td>NaN</td>\n",
       "      <td>374.0</td>\n",
       "      <td>334.0</td>\n",
       "      <td>49.0</td>\n",
       "      <td>3311.0</td>\n",
       "      <td>1533.0</td>\n",
       "      <td>6125.0</td>\n",
       "      <td>9330.0</td>\n",
       "      <td>1171.0</td>\n",
       "    </tr>\n",
       "    <tr>\n",
       "      <th>Canal10</th>\n",
       "      <td>NaN</td>\n",
       "      <td>NaN</td>\n",
       "      <td>NaN</td>\n",
       "      <td>NaN</td>\n",
       "      <td>14.0</td>\n",
       "      <td>13.0</td>\n",
       "      <td>81.0</td>\n",
       "      <td>92.0</td>\n",
       "      <td>54.0</td>\n",
       "      <td>NaN</td>\n",
       "      <td>NaN</td>\n",
       "    </tr>\n",
       "    <tr>\n",
       "      <th>Canal13</th>\n",
       "      <td>2.0</td>\n",
       "      <td>21.0</td>\n",
       "      <td>71.0</td>\n",
       "      <td>72.0</td>\n",
       "      <td>638.0</td>\n",
       "      <td>666.0</td>\n",
       "      <td>1013.0</td>\n",
       "      <td>891.0</td>\n",
       "      <td>807.0</td>\n",
       "      <td>963.0</td>\n",
       "      <td>80.0</td>\n",
       "    </tr>\n",
       "    <tr>\n",
       "      <th>Canal14</th>\n",
       "      <td>NaN</td>\n",
       "      <td>NaN</td>\n",
       "      <td>NaN</td>\n",
       "      <td>NaN</td>\n",
       "      <td>NaN</td>\n",
       "      <td>1.0</td>\n",
       "      <td>244.0</td>\n",
       "      <td>428.0</td>\n",
       "      <td>360.0</td>\n",
       "      <td>385.0</td>\n",
       "      <td>39.0</td>\n",
       "    </tr>\n",
       "    <tr>\n",
       "      <th>Canal2</th>\n",
       "      <td>NaN</td>\n",
       "      <td>NaN</td>\n",
       "      <td>NaN</td>\n",
       "      <td>NaN</td>\n",
       "      <td>NaN</td>\n",
       "      <td>NaN</td>\n",
       "      <td>NaN</td>\n",
       "      <td>NaN</td>\n",
       "      <td>120.0</td>\n",
       "      <td>315.0</td>\n",
       "      <td>58.0</td>\n",
       "    </tr>\n",
       "    <tr>\n",
       "      <th>Canal4</th>\n",
       "      <td>NaN</td>\n",
       "      <td>NaN</td>\n",
       "      <td>NaN</td>\n",
       "      <td>NaN</td>\n",
       "      <td>NaN</td>\n",
       "      <td>203.0</td>\n",
       "      <td>2427.0</td>\n",
       "      <td>1033.0</td>\n",
       "      <td>337.0</td>\n",
       "      <td>896.0</td>\n",
       "      <td>114.0</td>\n",
       "    </tr>\n",
       "    <tr>\n",
       "      <th>Canal6</th>\n",
       "      <td>NaN</td>\n",
       "      <td>NaN</td>\n",
       "      <td>NaN</td>\n",
       "      <td>NaN</td>\n",
       "      <td>NaN</td>\n",
       "      <td>NaN</td>\n",
       "      <td>10.0</td>\n",
       "      <td>286.0</td>\n",
       "      <td>323.0</td>\n",
       "      <td>1001.0</td>\n",
       "      <td>147.0</td>\n",
       "    </tr>\n",
       "    <tr>\n",
       "      <th>Confidencial</th>\n",
       "      <td>NaN</td>\n",
       "      <td>NaN</td>\n",
       "      <td>NaN</td>\n",
       "      <td>772.0</td>\n",
       "      <td>2063.0</td>\n",
       "      <td>1655.0</td>\n",
       "      <td>4263.0</td>\n",
       "      <td>4073.0</td>\n",
       "      <td>3756.0</td>\n",
       "      <td>5572.0</td>\n",
       "      <td>900.0</td>\n",
       "    </tr>\n",
       "    <tr>\n",
       "      <th>Radio 800</th>\n",
       "      <td>NaN</td>\n",
       "      <td>NaN</td>\n",
       "      <td>NaN</td>\n",
       "      <td>NaN</td>\n",
       "      <td>NaN</td>\n",
       "      <td>NaN</td>\n",
       "      <td>44.0</td>\n",
       "      <td>29.0</td>\n",
       "      <td>27.0</td>\n",
       "      <td>15.0</td>\n",
       "      <td>NaN</td>\n",
       "    </tr>\n",
       "    <tr>\n",
       "      <th>Radio Corporacion</th>\n",
       "      <td>NaN</td>\n",
       "      <td>NaN</td>\n",
       "      <td>NaN</td>\n",
       "      <td>26.0</td>\n",
       "      <td>482.0</td>\n",
       "      <td>305.0</td>\n",
       "      <td>1086.0</td>\n",
       "      <td>1501.0</td>\n",
       "      <td>1368.0</td>\n",
       "      <td>2717.0</td>\n",
       "      <td>228.0</td>\n",
       "    </tr>\n",
       "    <tr>\n",
       "      <th>Radio Nicaragua</th>\n",
       "      <td>NaN</td>\n",
       "      <td>NaN</td>\n",
       "      <td>NaN</td>\n",
       "      <td>NaN</td>\n",
       "      <td>NaN</td>\n",
       "      <td>NaN</td>\n",
       "      <td>311.0</td>\n",
       "      <td>408.0</td>\n",
       "      <td>1870.0</td>\n",
       "      <td>1866.0</td>\n",
       "      <td>228.0</td>\n",
       "    </tr>\n",
       "    <tr>\n",
       "      <th>Radio la Primerisima</th>\n",
       "      <td>NaN</td>\n",
       "      <td>NaN</td>\n",
       "      <td>NaN</td>\n",
       "      <td>NaN</td>\n",
       "      <td>NaN</td>\n",
       "      <td>NaN</td>\n",
       "      <td>NaN</td>\n",
       "      <td>NaN</td>\n",
       "      <td>349.0</td>\n",
       "      <td>1140.0</td>\n",
       "      <td>317.0</td>\n",
       "    </tr>\n",
       "  </tbody>\n",
       "</table>\n",
       "</div>"
      ],
      "text/plain": [
       "year                  2011.0  2012.0  2014.0  2015.0  2016.0  2017.0  2018.0  \\\n",
       "page                                                                           \n",
       "100% Noticias            NaN     NaN     NaN   374.0   334.0    49.0  3311.0   \n",
       "Canal10                  NaN     NaN     NaN     NaN    14.0    13.0    81.0   \n",
       "Canal13                  2.0    21.0    71.0    72.0   638.0   666.0  1013.0   \n",
       "Canal14                  NaN     NaN     NaN     NaN     NaN     1.0   244.0   \n",
       "Canal2                   NaN     NaN     NaN     NaN     NaN     NaN     NaN   \n",
       "Canal4                   NaN     NaN     NaN     NaN     NaN   203.0  2427.0   \n",
       "Canal6                   NaN     NaN     NaN     NaN     NaN     NaN    10.0   \n",
       "Confidencial             NaN     NaN     NaN   772.0  2063.0  1655.0  4263.0   \n",
       "Radio 800                NaN     NaN     NaN     NaN     NaN     NaN    44.0   \n",
       "Radio Corporacion        NaN     NaN     NaN    26.0   482.0   305.0  1086.0   \n",
       "Radio Nicaragua          NaN     NaN     NaN     NaN     NaN     NaN   311.0   \n",
       "Radio la Primerisima     NaN     NaN     NaN     NaN     NaN     NaN     NaN   \n",
       "\n",
       "year                  2019.0  2020.0  2021.0  2022.0  \n",
       "page                                                  \n",
       "100% Noticias         1533.0  6125.0  9330.0  1171.0  \n",
       "Canal10                 92.0    54.0     NaN     NaN  \n",
       "Canal13                891.0   807.0   963.0    80.0  \n",
       "Canal14                428.0   360.0   385.0    39.0  \n",
       "Canal2                   NaN   120.0   315.0    58.0  \n",
       "Canal4                1033.0   337.0   896.0   114.0  \n",
       "Canal6                 286.0   323.0  1001.0   147.0  \n",
       "Confidencial          4073.0  3756.0  5572.0   900.0  \n",
       "Radio 800               29.0    27.0    15.0     NaN  \n",
       "Radio Corporacion     1501.0  1368.0  2717.0   228.0  \n",
       "Radio Nicaragua        408.0  1870.0  1866.0   228.0  \n",
       "Radio la Primerisima     NaN   349.0  1140.0   317.0  "
      ]
     },
     "execution_count": 153,
     "metadata": {},
     "output_type": "execute_result"
    }
   ],
   "source": [
    "# create table to see how many mentions per outlet per year\n",
    "pd.pivot(dfa.groupby([\"page\", \"year\"]).agg({\"sentences\":np.size}).reset_index(), index = \"page\", columns = \"year\", values = \"sentences\")"
   ]
  },
  {
   "cell_type": "code",
   "execution_count": 55,
   "metadata": {},
   "outputs": [
    {
     "data": {
      "text/plain": [
       "position    sentiment\n",
       "neutral     NEU          0.696599\n",
       "            NEG          0.291711\n",
       "            POS          0.011690\n",
       "opposition  NEU          0.581024\n",
       "            NEG          0.412684\n",
       "            POS          0.006291\n",
       "regime      NEU          0.726679\n",
       "            POS          0.223545\n",
       "            NEG          0.049776\n",
       "Name: sentiment, dtype: float64"
      ]
     },
     "execution_count": 55,
     "metadata": {},
     "output_type": "execute_result"
    }
   ],
   "source": [
    "# descriptives\n",
    "\n",
    "dfa.groupby(\"position\")['sentiment'].value_counts(normalize=True)"
   ]
  },
  {
   "cell_type": "code",
   "execution_count": null,
   "metadata": {},
   "outputs": [],
   "source": [
    "# total change in sentiment over years\n",
    "df_short = dfa[[\"year\", \"position\"]]\n",
    "df_short.groupby(\"year\").agg({\"position\":})"
   ]
  },
  {
   "cell_type": "code",
   "execution_count": 94,
   "metadata": {},
   "outputs": [],
   "source": [
    "# create aggregated overview of sentiment per year\n",
    "df_agg = (dfa.groupby([\"position\", \"year\"])[\"sentiment\"]\n",
    " .value_counts(normalize=True)\n",
    " .rename(\"proportion\")\n",
    " .reset_index())"
   ]
  },
  {
   "cell_type": "code",
   "execution_count": 132,
   "metadata": {},
   "outputs": [
    {
     "data": {
      "text/plain": [
       "<AxesSubplot:xlabel='year', ylabel='proportion'>"
      ]
     },
     "execution_count": 132,
     "metadata": {},
     "output_type": "execute_result"
    },
    {
     "data": {
      "image/png": "[encoded data removed]",
      "text/plain": [
       "<Figure size 648x457.92 with 1 Axes>"
      ]
     },
     "metadata": {},
     "output_type": "display_data"
    }
   ],
   "source": [
    "# for regime\n",
    "(df_agg\n",
    " .loc[(df_agg[\"position\"]==\"regime\") & (df_agg[\"sentiment\"]!=\"NEU\") & (df_agg[\"year\"]> 2011)]\n",
    " .pipe((sns.barplot, \"data\"),\n",
    "       x=\"year\", y=\"proportion\",\n",
    "       hue=\"sentiment\", palette = palette))"
   ]
  },
  {
   "cell_type": "code",
   "execution_count": 133,
   "metadata": {
    "scrolled": false
   },
   "outputs": [
    {
     "data": {
      "text/plain": [
       "<AxesSubplot:xlabel='year', ylabel='proportion'>"
      ]
     },
     "execution_count": 133,
     "metadata": {},
     "output_type": "execute_result"
    },
    {
     "data": {
      "image/png": "[encoded data removed]",
      "text/plain": [
       "<Figure size 648x457.92 with 1 Axes>"
      ]
     },
     "metadata": {},
     "output_type": "display_data"
    }
   ],
   "source": [
    "# neutral\n",
    "(df_agg\n",
    " .loc[(df_agg[\"position\"]==\"neutral\") & (df_agg[\"sentiment\"]!=\"NEU\") & (df_agg[\"year\"]> 2011)]\n",
    " .pipe((sns.barplot, \"data\"),\n",
    "       x=\"year\", y=\"proportion\",\n",
    "       hue=\"sentiment\", palette = palette))"
   ]
  },
  {
   "cell_type": "code",
   "execution_count": 134,
   "metadata": {
    "scrolled": false
   },
   "outputs": [
    {
     "data": {
      "text/plain": [
       "<AxesSubplot:xlabel='year', ylabel='proportion'>"
      ]
     },
     "execution_count": 134,
     "metadata": {},
     "output_type": "execute_result"
    },
    {
     "data": {
      "image/png": "[encoded data removed]",
      "text/plain": [
       "<Figure size 648x457.92 with 1 Axes>"
      ]
     },
     "metadata": {},
     "output_type": "display_data"
    }
   ],
   "source": [
    "# neutral\n",
    "(df_agg\n",
    " .loc[(df_agg[\"position\"]==\"opposition\") & (df_agg[\"sentiment\"]!=\"NEU\") & (df_agg[\"year\"]> 2011)]\n",
    " .pipe((sns.barplot, \"data\"),\n",
    "       x=\"year\", y=\"proportion\",\n",
    "       hue=\"sentiment\", palette = palette))"
   ]
  },
  {
   "cell_type": "code",
   "execution_count": 136,
   "metadata": {},
   "outputs": [
    {
     "data": {
      "text/plain": [
       "<AxesSubplot:xlabel='year', ylabel='proportion'>"
      ]
     },
     "execution_count": 136,
     "metadata": {},
     "output_type": "execute_result"
    },
    {
     "data": {
      "image/png": "[encoded data removed]",
      "text/plain": [
       "<Figure size 648x457.92 with 1 Axes>"
      ]
     },
     "metadata": {},
     "output_type": "display_data"
    }
   ],
   "source": [
    "# all positions, but only negative\n",
    "(df_agg\n",
    " .loc[(df_agg[\"sentiment\"]==\"NEG\") & (df_agg[\"year\"]> 2011)]\n",
    " .pipe((sns.barplot, \"data\"),\n",
    "       x=\"year\", y=\"proportion\",\n",
    "       hue=\"position\"))"
   ]
  },
  {
   "cell_type": "code",
   "execution_count": 137,
   "metadata": {},
   "outputs": [
    {
     "data": {
      "text/plain": [
       "<AxesSubplot:xlabel='year', ylabel='proportion'>"
      ]
     },
     "execution_count": 137,
     "metadata": {},
     "output_type": "execute_result"
    },
    {
     "data": {
      "image/png": "[encoded data removed]",
      "text/plain": [
       "<Figure size 648x457.92 with 1 Axes>"
      ]
     },
     "metadata": {},
     "output_type": "display_data"
    }
   ],
   "source": [
    "# all positions, but only negative\n",
    "(df_agg\n",
    " .loc[(df_agg[\"sentiment\"]==\"POS\") & (df_agg[\"year\"]> 2011)]\n",
    " .pipe((sns.barplot, \"data\"),\n",
    "       x=\"year\", y=\"proportion\",\n",
    "       hue=\"position\"))"
   ]
  },
  {
   "cell_type": "code",
   "execution_count": 82,
   "metadata": {},
   "outputs": [
    {
     "data": {
      "text/html": [
       "<div>\n",
       "<style scoped>\n",
       "    .dataframe tbody tr th:only-of-type {\n",
       "        vertical-align: middle;\n",
       "    }\n",
       "\n",
       "    .dataframe tbody tr th {\n",
       "        vertical-align: top;\n",
       "    }\n",
       "\n",
       "    .dataframe thead th {\n",
       "        text-align: right;\n",
       "    }\n",
       "</style>\n",
       "<table border=\"1\" class=\"dataframe\">\n",
       "  <thead>\n",
       "    <tr style=\"text-align: right;\">\n",
       "      <th></th>\n",
       "      <th>position</th>\n",
       "      <th>year</th>\n",
       "      <th>sentiment</th>\n",
       "      <th>proportion</th>\n",
       "    </tr>\n",
       "  </thead>\n",
       "  <tbody>\n",
       "    <tr>\n",
       "      <th>0</th>\n",
       "      <td>neutral</td>\n",
       "      <td>2016.0</td>\n",
       "      <td>NEU</td>\n",
       "      <td>0.785714</td>\n",
       "    </tr>\n",
       "    <tr>\n",
       "      <th>1</th>\n",
       "      <td>neutral</td>\n",
       "      <td>2016.0</td>\n",
       "      <td>NEG</td>\n",
       "      <td>0.214286</td>\n",
       "    </tr>\n",
       "    <tr>\n",
       "      <th>2</th>\n",
       "      <td>neutral</td>\n",
       "      <td>2017.0</td>\n",
       "      <td>NEU</td>\n",
       "      <td>0.642857</td>\n",
       "    </tr>\n",
       "    <tr>\n",
       "      <th>3</th>\n",
       "      <td>neutral</td>\n",
       "      <td>2017.0</td>\n",
       "      <td>NEG</td>\n",
       "      <td>0.285714</td>\n",
       "    </tr>\n",
       "    <tr>\n",
       "      <th>4</th>\n",
       "      <td>neutral</td>\n",
       "      <td>2017.0</td>\n",
       "      <td>POS</td>\n",
       "      <td>0.071429</td>\n",
       "    </tr>\n",
       "    <tr>\n",
       "      <th>...</th>\n",
       "      <td>...</td>\n",
       "      <td>...</td>\n",
       "      <td>...</td>\n",
       "      <td>...</td>\n",
       "    </tr>\n",
       "    <tr>\n",
       "      <th>70</th>\n",
       "      <td>regime</td>\n",
       "      <td>2021.0</td>\n",
       "      <td>POS</td>\n",
       "      <td>0.217441</td>\n",
       "    </tr>\n",
       "    <tr>\n",
       "      <th>71</th>\n",
       "      <td>regime</td>\n",
       "      <td>2021.0</td>\n",
       "      <td>NEG</td>\n",
       "      <td>0.048374</td>\n",
       "    </tr>\n",
       "    <tr>\n",
       "      <th>72</th>\n",
       "      <td>regime</td>\n",
       "      <td>2022.0</td>\n",
       "      <td>NEU</td>\n",
       "      <td>0.760593</td>\n",
       "    </tr>\n",
       "    <tr>\n",
       "      <th>73</th>\n",
       "      <td>regime</td>\n",
       "      <td>2022.0</td>\n",
       "      <td>POS</td>\n",
       "      <td>0.184322</td>\n",
       "    </tr>\n",
       "    <tr>\n",
       "      <th>74</th>\n",
       "      <td>regime</td>\n",
       "      <td>2022.0</td>\n",
       "      <td>NEG</td>\n",
       "      <td>0.055085</td>\n",
       "    </tr>\n",
       "  </tbody>\n",
       "</table>\n",
       "<p>75 rows × 4 columns</p>\n",
       "</div>"
      ],
      "text/plain": [
       "   position    year sentiment  proportion\n",
       "0   neutral  2016.0       NEU    0.785714\n",
       "1   neutral  2016.0       NEG    0.214286\n",
       "2   neutral  2017.0       NEU    0.642857\n",
       "3   neutral  2017.0       NEG    0.285714\n",
       "4   neutral  2017.0       POS    0.071429\n",
       "..      ...     ...       ...         ...\n",
       "70   regime  2021.0       POS    0.217441\n",
       "71   regime  2021.0       NEG    0.048374\n",
       "72   regime  2022.0       NEU    0.760593\n",
       "73   regime  2022.0       POS    0.184322\n",
       "74   regime  2022.0       NEG    0.055085\n",
       "\n",
       "[75 rows x 4 columns]"
      ]
     },
     "execution_count": 82,
     "metadata": {},
     "output_type": "execute_result"
    }
   ],
   "source": [
    "df_agg"
   ]
  },
  {
   "cell_type": "code",
   "execution_count": 61,
   "metadata": {},
   "outputs": [
    {
     "ename": "AttributeError",
     "evalue": "module 'numpy' has no attribute 'count'",
     "output_type": "error",
     "traceback": [
      "\u001b[0;31m---------------------------------------------------------------------------\u001b[0m",
      "\u001b[0;31mAttributeError\u001b[0m                            Traceback (most recent call last)",
      "\u001b[0;32m<ipython-input-61-7f80bdc2f591>\u001b[0m in \u001b[0;36m<module>\u001b[0;34m\u001b[0m\n\u001b[0;32m----> 1\u001b[0;31m \u001b[0mdfa\u001b[0m\u001b[0;34m.\u001b[0m\u001b[0mgroupby\u001b[0m\u001b[0;34m(\u001b[0m\u001b[0;34m[\u001b[0m\u001b[0;34m\"position\"\u001b[0m\u001b[0;34m,\u001b[0m \u001b[0;34m\"year\"\u001b[0m\u001b[0;34m]\u001b[0m\u001b[0;34m)\u001b[0m\u001b[0;34m.\u001b[0m\u001b[0magg\u001b[0m\u001b[0;34m(\u001b[0m\u001b[0;34m{\u001b[0m\u001b[0;34m\"sentiment\"\u001b[0m\u001b[0;34m:\u001b[0m\u001b[0mnp\u001b[0m\u001b[0;34m.\u001b[0m\u001b[0mcount\u001b[0m\u001b[0;34m(\u001b[0m\u001b[0;34m)\u001b[0m\u001b[0;34m}\u001b[0m\u001b[0;34m)\u001b[0m\u001b[0;34m\u001b[0m\u001b[0;34m\u001b[0m\u001b[0m\n\u001b[0m",
      "\u001b[0;32m~/.local/lib/python3.8/site-packages/numpy/__init__.py\u001b[0m in \u001b[0;36m__getattr__\u001b[0;34m(attr)\u001b[0m\n\u001b[1;32m    301\u001b[0m                 \u001b[0;32mreturn\u001b[0m \u001b[0mTester\u001b[0m\u001b[0;34m\u001b[0m\u001b[0;34m\u001b[0m\u001b[0m\n\u001b[1;32m    302\u001b[0m \u001b[0;34m\u001b[0m\u001b[0m\n\u001b[0;32m--> 303\u001b[0;31m             raise AttributeError(\"module {!r} has no attribute \"\n\u001b[0m\u001b[1;32m    304\u001b[0m                                  \"{!r}\".format(__name__, attr))\n\u001b[1;32m    305\u001b[0m \u001b[0;34m\u001b[0m\u001b[0m\n",
      "\u001b[0;31mAttributeError\u001b[0m: module 'numpy' has no attribute 'count'"
     ]
    }
   ],
   "source": [
    "dfa.groupby([\"position\", \"year\"]).agg({\"sentiment\":np.count()})"
   ]
  }
 ],
 "metadata": {
  "kernelspec": {
   "display_name": "Python 3",
   "language": "python",
   "name": "python3"
  },
  "language_info": {
   "codemirror_mode": {
    "name": "ipython",
    "version": 3
   },
   "file_extension": ".py",
   "mimetype": "text/x-python",
   "name": "python",
   "nbconvert_exporter": "python",
   "pygments_lexer": "ipython3",
   "version": "3.8.10"
  }
 },
 "nbformat": 4,
 "nbformat_minor": 5
}
