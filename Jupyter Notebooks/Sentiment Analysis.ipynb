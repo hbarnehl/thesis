{
 "cells": [
  {
   "cell_type": "markdown",
   "metadata": {},
   "source": [
    "# Running pysentiment (BETO-powered Sentiment Analysis) "
   ]
  },
  {
   "cell_type": "code",
   "execution_count": 1,
   "metadata": {},
   "outputs": [
    {
     "name": "stderr",
     "output_type": "stream",
     "text": [
      "/usr/lib/python3/dist-packages/requests/__init__.py:89: RequestsDependencyWarning: urllib3 (1.26.9) or chardet (3.0.4) doesn't match a supported version!\n",
      "  warnings.warn(\"urllib3 ({}) or chardet ({}) doesn't match a supported \"\n"
     ]
    }
   ],
   "source": [
    "import pandas as pd\n",
    "import re\n",
    "import pysentimiento\n",
    "import pickle\n",
    "\n",
    "# load dataset with preprocessed text\n",
    "df = pd.read_csv('dataset_token_ready.csv')\n",
    "\n",
    "# define regex to search for mentions of president Ortega\n",
    "regex = r'([Oo]rtega)|([Nn]uestro [Pp]residente)|[Pp]residente de [Nn]icaragua|([Cc]omandante [Dd]aniel)|[Dd]aniel y [Rr]osario'\n",
    "\n",
    "# subset articles that contain mentions of president Ortega\n",
    "df = df.loc[df['text'].str.contains(regex, na = False)].reset_index(drop = True)\n",
    "\n",
    "# split string of texts into list of sentences\n",
    "df[\"sentences\"] = df.text.apply(lambda x: x.split(\".\"))\n",
    "\n",
    "# explode rows so that each row contains one sentence\n",
    "df = df.explode(\"sentences\", ignore_index = True)\n",
    "\n",
    "# subset sentences that contain mentions of Ortega\n",
    "df = df.loc[df[\"sentences\"].str.contains(regex)].reset_index(drop = True)\n",
    "\n",
    "# drop text column\n",
    "df.drop(\"text\", axis = 1, inplace = True)\n",
    "\n",
    "analyzer = pysentimiento.create_analyzer(task=\"sentiment\", lang=\"es\")\n",
    "\n",
    "df[\"sentiment\"] = df[\"sentences\"].apply(lambda x: analyzer.predict(x).output)\n",
    "\n",
    "with open(\"dataset_sentiment.pkl\", \"wb\") as f:\n",
    "    pickle.dump(df, f)"
   ]
  }
 ],
 "metadata": {
  "kernelspec": {
   "display_name": "Python 3",
   "language": "python",
   "name": "python3"
  },
  "language_info": {
   "codemirror_mode": {
    "name": "ipython",
    "version": 3
   },
   "file_extension": ".py",
   "mimetype": "text/x-python",
   "name": "python",
   "nbconvert_exporter": "python",
   "pygments_lexer": "ipython3",
   "version": "3.8.10"
  }
 },
 "nbformat": 4,
 "nbformat_minor": 5
}
