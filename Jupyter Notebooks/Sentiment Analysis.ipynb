{
 "cells": [
  {
   "cell_type": "markdown",
   "metadata": {},
   "source": [
    "# Running pysentiment (BETO-powered Sentiment Analysis) "
   ]
  },
  {
   "cell_type": "code",
   "execution_count": null,
   "metadata": {},
   "outputs": [],
   "source": [
    "import pandas as pd\n",
    "import random\n",
    "import pysentimiento\n",
    "import pickle"
   ]
  },
  {
   "cell_type": "code",
   "execution_count": null,
   "metadata": {},
   "outputs": [],
   "source": [
    "dataloc = \"/home/hennes/thesis/Data/\"\n",
    "with open(dataloc+\"dataset_sentiment.pkl\", \"rb\") as f:\n",
    "    df = pickle.load(f)"
   ]
  },
  {
   "cell_type": "code",
   "execution_count": null,
   "metadata": {},
   "outputs": [],
   "source": [
    "df_pos = df.loc[df[\"sentiment\"] == \"POS\"].reset_index()\n",
    "df_neg = df.loc[df[\"sentiment\"] == \"NEG\"].reset_index()\n",
    "df_neu= df.loc[df[\"sentiment\"] == \"NEU\"].reset_index()"
   ]
  },
  {
   "cell_type": "code",
   "execution_count": null,
   "metadata": {},
   "outputs": [],
   "source": [
    "sentences = []\n",
    "for i, dataframe in enumerate([df_pos, df_neg, df_neu]):\n",
    "    sentences.append([])\n",
    "    for count in range(0, 20):\n",
    "        n = random.randint(0,len(dataframe))\n",
    "        sentence = dataframe.loc[n, \"sentences\"]\n",
    "        sentences[i].append(sentence)"
   ]
  },
  {
   "cell_type": "code",
   "execution_count": null,
   "metadata": {
    "scrolled": false
   },
   "outputs": [],
   "source": [
    "d = {\"Sentiment\" : [\"Positive\", \"Negative\", \"Neutral\"], \"Sentences\"}\n",
    "table = pd.DataFrame(data = )"
   ]
  },
  {
   "cell_type": "code",
   "execution_count": null,
   "metadata": {},
   "outputs": [],
   "source": [
    "import pandas as pd\n",
    "import re\n",
    "import pysentimiento\n",
    "import pickle\n",
    "\n",
    "# load dataset with preprocessed text\n",
    "df = pd.read_csv('dataset_token_ready.csv')\n",
    "\n",
    "# define regex to search for mentions of president Ortega\n",
    "regex = r'([Oo]rtega)|([Nn]uestro [Pp]residente)|[Pp]residente de [Nn]icaragua|([Cc]omandante [Dd]aniel)|[Dd]aniel y [Rr]osario'\n",
    "\n",
    "# subset articles that contain mentions of president Ortega\n",
    "df = df.loc[df['text'].str.contains(regex, na = False)].reset_index(drop = True)\n",
    "\n",
    "# split string of texts into list of sentences\n",
    "df[\"sentences\"] = df.text.apply(lambda x: x.split(\".\"))\n",
    "\n",
    "# explode rows so that each row contains one sentence\n",
    "df = df.explode(\"sentences\", ignore_index = True)\n",
    "\n",
    "# subset sentences that contain mentions of Ortega\n",
    "df = df.loc[df[\"sentences\"].str.contains(regex)].reset_index(drop = True)\n",
    "\n",
    "# drop text column\n",
    "df.drop(\"text\", axis = 1, inplace = True)\n",
    "\n",
    "analyzer = pysentimiento.create_analyzer(task=\"sentiment\", lang=\"es\")\n",
    "\n",
    "df[\"sentiment\"] = df[\"sentences\"].apply(lambda x: analyzer.predict(x).output)\n",
    "\n",
    "with open(\"dataset_sentiment.pkl\", \"wb\") as f:\n",
    "    pickle.dump(df, f)"
   ]
  }
 ],
 "metadata": {
  "kernelspec": {
   "display_name": "Python 3",
   "language": "python",
   "name": "python3"
  },
  "language_info": {
   "codemirror_mode": {
    "name": "ipython",
    "version": 3
   },
   "file_extension": ".py",
   "mimetype": "text/x-python",
   "name": "python",
   "nbconvert_exporter": "python",
   "pygments_lexer": "ipython3",
   "version": "3.8.10"
  }
 },
 "nbformat": 4,
 "nbformat_minor": 5
}
