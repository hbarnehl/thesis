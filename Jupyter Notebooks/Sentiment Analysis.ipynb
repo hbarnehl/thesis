{
 "cells": [
  {
   "cell_type": "markdown",
   "metadata": {},
   "source": [
    "# Running pysentiment (BETO-powered Sentiment Analysis) "
   ]
  },
  {
   "cell_type": "code",
   "execution_count": 12,
   "metadata": {},
   "outputs": [],
   "source": [
    "import pandas as pd\n",
    "import random\n",
    "import pysentimiento\n",
    "import pickle"
   ]
  },
  {
   "cell_type": "code",
   "execution_count": 5,
   "metadata": {},
   "outputs": [],
   "source": [
    "dataloc = \"/home/hennes/thesis/Data/\"\n",
    "with open(dataloc+\"dataset_sentiment.pkl\", \"rb\") as f:\n",
    "    df = pickle.load(f)"
   ]
  },
  {
   "cell_type": "code",
   "execution_count": 9,
   "metadata": {},
   "outputs": [],
   "source": [
    "df_pos = df.loc[df[\"sentiment\"] == \"POS\"].reset_index()\n",
    "df_neg = df.loc[df[\"sentiment\"] == \"NEG\"].reset_index()\n",
    "df_neu= df.loc[df[\"sentiment\"] == \"NEU\"].reset_index()"
   ]
  },
  {
   "cell_type": "code",
   "execution_count": 90,
   "metadata": {},
   "outputs": [
    {
     "data": {
      "text/plain": [
       "510"
      ]
     },
     "execution_count": 90,
     "metadata": {},
     "output_type": "execute_result"
    }
   ],
   "source": []
  },
  {
   "cell_type": "code",
   "execution_count": 97,
   "metadata": {},
   "outputs": [],
   "source": [
    "sentences = []\n",
    "for i, dataframe in enumerate([df_pos, df_neg, df_neu]):\n",
    "    sentences.append([])\n",
    "    for count in range(0, 20):\n",
    "        n = random.randint(0,len(dataframe))\n",
    "        sentence = dataframe.loc[n, \"sentences\"]\n",
    "        sentences[i].append(sentence)"
   ]
  },
  {
   "cell_type": "code",
   "execution_count": 102,
   "metadata": {},
   "outputs": [
    {
     "data": {
      "text/plain": [
       "[' Lea Además: Leoneses realizan marcha de la burla “Desde la coordinadora universitaria por la democracia y la justicia vamos a darle continuidad al proyecto de la marcha de la burla desde diversos enfoques incluyendo el enfoque virtual, comprendiendo la situación vulnerable que se vive en Nicaragua ya que no se pueden realizar ciertos actos presenciales debido a la represión por parte del régimen Ortega Murillo y en la parte de acá desde el exilio en Costa Rica pensamos darle ese toque de presencialidad que ha caracterizado a la manifestación o marcha de la burla\" anunciaron los organizadores',\n",
       " 'La Vicepresidente de Nicaragua, Rosario Murillo, informó que este jueves se desarrollará jornada de vacunación contra la Covid-19 en Rivas',\n",
       " ' Figueroa llegó con más de diez acompañantes a bordo de un bus ruso, de los 250 que este mes recibió el régimen de Daniel Ortega, sin detallar cómo se obtuvieron estos, ni siquiera si fue donación o crédito',\n",
       " 'El Ministro de Transporte e Infraestructura (MTI) Óscar Mojica en representación del Comandante Daniel Ortega y la compañera Vicepresidenta Rosario Murillo inauguró la mañana de este jueves 7 de febrero 26',\n",
       " ' La Policía Nacional, que dirige Francisco Díaz, un consuegro de Ortega, también ha aprehendido a un excanciller, dos exvicecancilleres, dos históricos exguerrilleros sandinistas disidentes, un dirigente empresarial, un banquero, una ex primera dama, y cinco dirigentes opositores',\n",
       " ' Requisitos para optar a las becas: Fotocopia de cédula Certificado de cuarto y quinto año de secundaria aprobados Copia de diploma de bachiller Rendimiento académico de más del 80% Una carta de solicitud dirigida al Presidente de la República Comandante Daniel Ortega Saavedra La oferta académica se distribuye entre 45 carreras universitarias que van desde ingeniería en sistema, banca y finanzas, derecho, relaciones internacionales, medicina hasta promoción de espectáculos entre otras',\n",
       " 'La compañera Rosario Murillo, vicepresidente de Nicaragua informó que la mañana de este jueves se hizo circular el acuerdo presidencial número 63-2019, en el que el presidente de la República nombrado a la compañera Wendy Carolina Morales Urbina como Procuradora General de la República',\n",
       " '  | Confidencial La sesión del Consejo Permanente de la Organización de Estados Americanos (OEA) fue calificada como exitosa por la sociedad civil nicaragüense y analistas políticos, porque once países condenaron la violencia y la represión del Gobierno de Daniel Ortega, y respaldaron el informe final presentado por la Comisión Interamericana de Derechos Humanos (CIDH) que denuncia graves violaciones de derechos humanos en el país',\n",
       " ' El Movimiento por Nicaragua (MpN) presentó este jueves una “Agenda Básica para la Nación”, una propuesta que pretende ser una alternativa al régimen del comandante Daniel Ortega, y que incorpora demandas expresadas por la ciudadanía en los últimos años para enriquecer el debate electoral, explicó Violeta Granera, presidenta de esa organización no gubernamental',\n",
       " 'NACIONALES El presidente de la república, Daniel Ortega Saavedra recibirá este jueves las cartas credenciales de los embajadores concurrentes de Qatar, India, Turquía, República Democrática de Corea y Jamaica']"
      ]
     },
     "execution_count": 102,
     "metadata": {},
     "output_type": "execute_result"
    }
   ],
   "source": [
    "sentences[2][:10]"
   ]
  },
  {
   "cell_type": "code",
   "execution_count": 98,
   "metadata": {
    "scrolled": false
   },
   "outputs": [
    {
     "data": {
      "text/plain": [
       "[' Lea Además: Leoneses realizan marcha de la burla “Desde la coordinadora universitaria por la democracia y la justicia vamos a darle continuidad al proyecto de la marcha de la burla desde diversos enfoques incluyendo el enfoque virtual, comprendiendo la situación vulnerable que se vive en Nicaragua ya que no se pueden realizar ciertos actos presenciales debido a la represión por parte del régimen Ortega Murillo y en la parte de acá desde el exilio en Costa Rica pensamos darle ese toque de presencialidad que ha caracterizado a la manifestación o marcha de la burla\" anunciaron los organizadores',\n",
       " 'La Vicepresidente de Nicaragua, Rosario Murillo, informó que este jueves se desarrollará jornada de vacunación contra la Covid-19 en Rivas',\n",
       " ' Figueroa llegó con más de diez acompañantes a bordo de un bus ruso, de los 250 que este mes recibió el régimen de Daniel Ortega, sin detallar cómo se obtuvieron estos, ni siquiera si fue donación o crédito',\n",
       " 'El Ministro de Transporte e Infraestructura (MTI) Óscar Mojica en representación del Comandante Daniel Ortega y la compañera Vicepresidenta Rosario Murillo inauguró la mañana de este jueves 7 de febrero 26',\n",
       " ' La Policía Nacional, que dirige Francisco Díaz, un consuegro de Ortega, también ha aprehendido a un excanciller, dos exvicecancilleres, dos históricos exguerrilleros sandinistas disidentes, un dirigente empresarial, un banquero, una ex primera dama, y cinco dirigentes opositores',\n",
       " ' Requisitos para optar a las becas: Fotocopia de cédula Certificado de cuarto y quinto año de secundaria aprobados Copia de diploma de bachiller Rendimiento académico de más del 80% Una carta de solicitud dirigida al Presidente de la República Comandante Daniel Ortega Saavedra La oferta académica se distribuye entre 45 carreras universitarias que van desde ingeniería en sistema, banca y finanzas, derecho, relaciones internacionales, medicina hasta promoción de espectáculos entre otras',\n",
       " 'La compañera Rosario Murillo, vicepresidente de Nicaragua informó que la mañana de este jueves se hizo circular el acuerdo presidencial número 63-2019, en el que el presidente de la República nombrado a la compañera Wendy Carolina Morales Urbina como Procuradora General de la República',\n",
       " '  | Confidencial La sesión del Consejo Permanente de la Organización de Estados Americanos (OEA) fue calificada como exitosa por la sociedad civil nicaragüense y analistas políticos, porque once países condenaron la violencia y la represión del Gobierno de Daniel Ortega, y respaldaron el informe final presentado por la Comisión Interamericana de Derechos Humanos (CIDH) que denuncia graves violaciones de derechos humanos en el país',\n",
       " ' El Movimiento por Nicaragua (MpN) presentó este jueves una “Agenda Básica para la Nación”, una propuesta que pretende ser una alternativa al régimen del comandante Daniel Ortega, y que incorpora demandas expresadas por la ciudadanía en los últimos años para enriquecer el debate electoral, explicó Violeta Granera, presidenta de esa organización no gubernamental',\n",
       " 'NACIONALES El presidente de la república, Daniel Ortega Saavedra recibirá este jueves las cartas credenciales de los embajadores concurrentes de Qatar, India, Turquía, República Democrática de Corea y Jamaica',\n",
       " 'Con velas encendidas, banderas de Nicaragua y retratos de estudiantes y maestros presos, varias iglesias del país fueron hoy escenario de emotivos ruegos por la libertad de unos 400 manifestantes encarcelados en los últimos seis meses por protestar contra el presidente Daniel Ortega',\n",
       " 'Comandante Daniel Ortega Saavedra Presidente de la República de Nicaragua Compañera Rosario Murillo Zambrana Vice presidenta de la República Compañeros del Frente Sandinista de Liberación Nacional',\n",
       " ' Los simpatizantes del régimen de Daniel Ortega en Nicaragua cada fin de semana realizan diversas movilizaciones por órdenes de la pareja dictatorial y con respaldo de la sancionada policía sandinista, así mismo la también sancionada Rosario Murillo agregó que a la marcha movilizarán unidades móviles para cualquier tipo de eventualidad que surja',\n",
       " 'La Comisión Interamericana de Derechos Humanos, CIDH, solicita al Gobierno de Daniel Ortega información sobre “las graves denuncias” de golpizas propinadas por autoridades a prisioneros de la cárcel Modelo de Tipitapa, en Managua',\n",
       " ' Uno de los afectados, con su rostro cubierto y que se identificó como sandinista, declaró al noticiero Acción 10 que se habían tomado esas tierras porque creían les pertenecían al Estado y tenían derecho a ellas por apoyar al presidente Ortega',\n",
       " ' El gobierno del Comandante Daniel trabaja por el necesitado y a diario se restituye el derecho de las familias, pues así queda constatado desde un proyecto de carretera, una casa materna, un parque, una vivienda solidaria, paquetes alimenticios y otros programas',\n",
       " ' (Del pueblo nicaragüense en el Comandante Daniel y la Compañera Rosario Murillo)',\n",
       " ' Según información fiscal de Nicaragua, revisada en octubre pasado, el 40 por ciento de las acciones están en manos de Néstor Moncada Lau, asesor de seguridad de Ortega, quien fue miembro de la Seguridad del Estado durante el primer gobierno sandinista en los años ochenta y hoy es el funcionario más poderoso después del mandatario y la esposa de éste y vicepresidenta, Rosario Murillo',\n",
       " ' Esto para evitar una posible reelección del presidente Daniel Ortega en las elecciones del próximo noviembre',\n",
       " ' “Aquí se tiene que entender que no hay objeción a que sea nicaragüense, sino a que sea alguien afín al régimen de Ortega']"
      ]
     },
     "execution_count": 98,
     "metadata": {},
     "output_type": "execute_result"
    }
   ],
   "source": [
    "d = {\"Sentiment\" : [\"Positive\", \"Negative\", \"Neutral\"], \"Sentences\"}\n",
    "table = pd.DataFrame(data = )"
   ]
  },
  {
   "cell_type": "code",
   "execution_count": null,
   "metadata": {},
   "outputs": [
    {
     "name": "stderr",
     "output_type": "stream",
     "text": [
      "<ipython-input-16-9b2dbeeee237>:13: UserWarning: This pattern is interpreted as a regular expression, and has match groups. To actually get the groups, use str.extract.\n",
      "  df = df.loc[df['text'].str.contains(regex, na = False)].reset_index(drop = True)\n",
      "<ipython-input-16-9b2dbeeee237>:22: UserWarning: This pattern is interpreted as a regular expression, and has match groups. To actually get the groups, use str.extract.\n",
      "  df = df.loc[df[\"sentences\"].str.contains(regex)].reset_index(drop = True)\n"
     ]
    }
   ],
   "source": [
    "import pandas as pd\n",
    "import re\n",
    "import pysentimiento\n",
    "import pickle\n",
    "\n",
    "# load dataset with preprocessed text\n",
    "df = pd.read_csv('dataset_token_ready.csv')\n",
    "\n",
    "# define regex to search for mentions of president Ortega\n",
    "regex = r'([Oo]rtega)|([Nn]uestro [Pp]residente)|[Pp]residente de [Nn]icaragua|([Cc]omandante [Dd]aniel)|[Dd]aniel y [Rr]osario'\n",
    "\n",
    "# subset articles that contain mentions of president Ortega\n",
    "df = df.loc[df['text'].str.contains(regex, na = False)].reset_index(drop = True)\n",
    "\n",
    "# split string of texts into list of sentences\n",
    "df[\"sentences\"] = df.text.apply(lambda x: x.split(\".\"))\n",
    "\n",
    "# explode rows so that each row contains one sentence\n",
    "df = df.explode(\"sentences\", ignore_index = True)\n",
    "\n",
    "# subset sentences that contain mentions of Ortega\n",
    "df = df.loc[df[\"sentences\"].str.contains(regex)].reset_index(drop = True)\n",
    "\n",
    "# drop text column\n",
    "df.drop(\"text\", axis = 1, inplace = True)\n",
    "\n",
    "analyzer = pysentimiento.create_analyzer(task=\"sentiment\", lang=\"es\")\n",
    "\n",
    "df[\"sentiment\"] = df[\"sentences\"].apply(lambda x: analyzer.predict(x).output)\n",
    "\n",
    "with open(\"dataset_sentiment.pkl\", \"wb\") as f:\n",
    "    pickle.dump(df, f)"
   ]
  }
 ],
 "metadata": {
  "kernelspec": {
   "display_name": "Python 3",
   "language": "python",
   "name": "python3"
  },
  "language_info": {
   "codemirror_mode": {
    "name": "ipython",
    "version": 3
   },
   "file_extension": ".py",
   "mimetype": "text/x-python",
   "name": "python",
   "nbconvert_exporter": "python",
   "pygments_lexer": "ipython3",
   "version": "3.8.10"
  }
 },
 "nbformat": 4,
 "nbformat_minor": 5
}
