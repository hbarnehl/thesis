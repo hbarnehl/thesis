{
 "cells": [
  {
   "cell_type": "markdown",
   "metadata": {},
   "source": [
    "# Running pysentiment (BETO-powered Sentiment Analysis) "
   ]
  },
  {
   "cell_type": "code",
   "execution_count": 1,
   "metadata": {},
   "outputs": [
    {
     "name": "stderr",
     "output_type": "stream",
     "text": [
      "/usr/lib/python3/dist-packages/requests/__init__.py:89: RequestsDependencyWarning: urllib3 (1.26.9) or chardet (3.0.4) doesn't match a supported version!\n",
      "  warnings.warn(\"urllib3 ({}) or chardet ({}) doesn't match a supported \"\n"
     ]
    }
   ],
   "source": [
    "import pandas as pd\n",
    "import re\n",
    "import pysentimiento"
   ]
  },
  {
   "cell_type": "code",
   "execution_count": 2,
   "metadata": {},
   "outputs": [
    {
     "name": "stderr",
     "output_type": "stream",
     "text": [
      "<ipython-input-2-ac87f0e27e66>:8: UserWarning: This pattern is interpreted as a regular expression, and has match groups. To actually get the groups, use str.extract.\n",
      "  df = df.loc[df['text'].str.contains(regex, na = False)].reset_index(drop = True)\n",
      "<ipython-input-2-ac87f0e27e66>:17: UserWarning: This pattern is interpreted as a regular expression, and has match groups. To actually get the groups, use str.extract.\n",
      "  df = df.loc[df[\"sentences\"].str.contains(regex)].reset_index(drop = True)\n"
     ]
    }
   ],
   "source": [
    "# load dataset with preprocessed text\n",
    "df = pd.read_csv('dataset_token_ready.csv')\n",
    "\n",
    "# define regex to search for mentions of president Ortega\n",
    "regex = r'([Oo]rtega)|([Nn]uestro [Pp]residente)|[Pp]residente de [Nn]icaragua|([Cc]omandante [Dd]aniel)|[Dd]aniel y [Rr]osario'\n",
    "\n",
    "# subset articles that contain mentions of president Ortega\n",
    "df = df.loc[df['text'].str.contains(regex, na = False)].reset_index(drop = True)\n",
    "\n",
    "# split string of texts into list of sentences\n",
    "df[\"sentences\"] = df.text.apply(lambda x: x.split(\".\"))\n",
    "\n",
    "# explode rows so that each row contains one sentence\n",
    "df = df.explode(\"sentences\", ignore_index = True)\n",
    "\n",
    "# subset sentences that contain mentions of Ortega\n",
    "df = df.loc[df[\"sentences\"].str.contains(regex)].reset_index(drop = True)\n",
    "\n",
    "# drop text column\n",
    "df.drop(\"text\", axis = 1, inplace = True)"
   ]
  },
  {
   "cell_type": "code",
   "execution_count": 3,
   "metadata": {},
   "outputs": [],
   "source": [
    "analyzer = pysentimiento.create_analyzer(task=\"sentiment\", lang=\"es\")"
   ]
  },
  {
   "cell_type": "code",
   "execution_count": 82,
   "metadata": {
    "scrolled": false
   },
   "outputs": [
    {
     "name": "stdout",
     "output_type": "stream",
     "text": [
      "\"Ese aumento de solicitudes podría significar que el éxodo está empezando pues la gente huye de la cruel represión de Daniel Ortega\", valoran los organizados en SOSNicaragua-Madrid, un gran grupo de nicaragüenses que se autoconvocan para realizar actividades de protesta, denuncia, acompañamiento e información, en la capital del país ibérico y que realizó la actividad el pasado 19 de julio \n",
      "\n",
      " output: NEU \n",
      "\n",
      " probabilities: {'NEG': 0.38104572892189026, 'NEU': 0.6105515360832214, 'POS': 0.008402684703469276}\n"
     ]
    }
   ],
   "source": [
    "analysis = analyzer.predict(sentences_daniel[1])\n",
    "print(analysis.sentence, \"\\n\\n output:\", analysis.output, \"\\n\\n probabilities:\",analysis.probas)"
   ]
  },
  {
   "cell_type": "code",
   "execution_count": 5,
   "metadata": {},
   "outputs": [],
   "source": [
    "df[\"sentiment\"] = df[\"sentences\"].apply(lambda x: analyzer.predict(x).output)"
   ]
  },
  {
   "cell_type": "code",
   "execution_count": 8,
   "metadata": {},
   "outputs": [],
   "source": [
    "with open(\"dataset_sentiment.pkl\", \"wb\") as f:\n",
    "    pickle.dump(df, f)"
   ]
  }
 ],
 "metadata": {
  "kernelspec": {
   "display_name": "Python 3",
   "language": "python",
   "name": "python3"
  },
  "language_info": {
   "codemirror_mode": {
    "name": "ipython",
    "version": 3
   },
   "file_extension": ".py",
   "mimetype": "text/x-python",
   "name": "python",
   "nbconvert_exporter": "python",
   "pygments_lexer": "ipython3",
   "version": "3.8.10"
  }
 },
 "nbformat": 4,
 "nbformat_minor": 5
}
