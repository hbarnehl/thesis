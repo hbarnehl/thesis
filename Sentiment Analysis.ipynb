{
 "cells": [
  {
   "cell_type": "markdown",
   "id": "ad272332",
   "metadata": {},
   "source": [
    "# Running pysentiment (BENTO-powered Sentiment Analysis) "
   ]
  },
  {
   "cell_type": "code",
   "execution_count": 1,
   "id": "7bbef885",
   "metadata": {},
   "outputs": [],
   "source": [
    "import pandas as pd"
   ]
  },
  {
   "cell_type": "code",
   "execution_count": 23,
   "id": "5ac41c7f",
   "metadata": {},
   "outputs": [],
   "source": [
    "df = pd.read_csv('dataset_token_ready.csv')"
   ]
  },
  {
   "cell_type": "code",
   "execution_count": 24,
   "id": "f35f4f74",
   "metadata": {},
   "outputs": [
    {
     "name": "stderr",
     "output_type": "stream",
     "text": [
      "/usr/local/lib/python3.7/dist-packages/ipykernel_launcher.py:1: UserWarning: This pattern has match groups. To actually get the groups, use str.extract.\n",
      "  \"\"\"Entry point for launching an IPython kernel.\n"
     ]
    }
   ],
   "source": [
    "df = df.loc[df['text'].str.contains(r'([Oo]rtega)|([Nn]uestro [Pp]residente)|[Pp]residente de [Nn]icaragua|([Cc]omandante [Dd]aniel)|[Dd]aniel y [Rr]osario', na = False)]"
   ]
  },
  {
   "cell_type": "code",
   "execution_count": 27,
   "id": "2e49f3b4",
   "metadata": {
    "scrolled": true
   },
   "outputs": [],
   "source": [
    "df_confidencial = df.loc[df['page'] == 'Confidencial']"
   ]
  },
  {
   "cell_type": "code",
   "execution_count": null,
   "id": "fac13121",
   "metadata": {},
   "outputs": [],
   "source": [
    "import random\n",
    "\n",
    "print"
   ]
  }
 ],
 "metadata": {
  "kernelspec": {
   "display_name": "Python 3 (ipykernel)",
   "language": "python",
   "name": "python3"
  },
  "language_info": {
   "codemirror_mode": {
    "name": "ipython",
    "version": 3
   },
   "file_extension": ".py",
   "mimetype": "text/x-python",
   "name": "python",
   "nbconvert_exporter": "python",
   "pygments_lexer": "ipython3",
   "version": "3.7.3"
  }
 },
 "nbformat": 4,
 "nbformat_minor": 5
}
